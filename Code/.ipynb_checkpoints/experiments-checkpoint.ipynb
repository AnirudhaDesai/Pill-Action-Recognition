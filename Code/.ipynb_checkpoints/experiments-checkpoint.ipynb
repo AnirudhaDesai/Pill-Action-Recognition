{
 "cells": [
  {
   "cell_type": "code",
   "execution_count": 54,
   "metadata": {
    "collapsed": true
   },
   "outputs": [],
   "source": [
    "import numpy as np\n",
    "from sklearn.svm import SVC\n",
    "from sklearn.svm import LinearSVC as LinearSVC\n",
    "from sklearn.linear_model import LogisticRegression as logreg\n",
    "from sklearn.tree import DecisionTreeClassifier as dtree\n",
    "from sklearn.ensemble import RandomForestClassifier as RFC\n",
    "from sklearn.ensemble import AdaBoostClassifier\n",
    "import featureSelect as fs\n",
    "from matplotlib import pyplot as plt\n",
    "import matplotlib\n",
    "from numpy import inf"
   ]
  },
  {
   "cell_type": "code",
   "execution_count": 15,
   "metadata": {
    "collapsed": true
   },
   "outputs": [],
   "source": [
    "class newmodel:\n",
    "    \n",
    "    def __init__(self, a = None):\n",
    "        self.pred = a\n",
    "        pass\n",
    "    \n",
    "    def fit(self, X, Y):\n",
    "        pass\n",
    "    \n",
    "    def predict(self, X):\n",
    "        if self.pred == None:\n",
    "            return np.random.randint(0, 2, X.shape[0])\n",
    "        else:\n",
    "            return np.zeros(X.shape[0]) + self.pred"
   ]
  },
  {
   "cell_type": "code",
   "execution_count": 16,
   "metadata": {
    "collapsed": true
   },
   "outputs": [],
   "source": [
    "def get_test_train_idx(total, test = 30):\n",
    "    idx_test = np.random.choice(np.arange(0, total), size = test, replace=False)\n",
    "    idx_test = np.sort(idx_test)\n",
    "    idx_train = np.array([i for i in range(0, total) if i not in idx_test])\n",
    "    return idx_train, idx_test"
   ]
  },
  {
   "cell_type": "code",
   "execution_count": 63,
   "metadata": {},
   "outputs": [
    {
     "name": "stdout",
     "output_type": "stream",
     "text": [
      "(140, 216) (140,)\n"
     ]
    }
   ],
   "source": [
    "\n",
    "X = np.load('../misc/base_wear_features.npy')\n",
    "Y = np.load('../misc/no_windows_data.npz')['arr_1']\n",
    "cls = 1 # Class to be tested\n",
    "\n",
    "Y = (Y == cls)*1.0\n",
    "\n",
    "\n",
    "X[X== -inf]=0\n",
    "print(X.shape, Y.shape)"
   ]
  },
  {
   "cell_type": "code",
   "execution_count": 68,
   "metadata": {},
   "outputs": [
    {
     "ename": "IndexError",
     "evalue": "too many indices for array",
     "output_type": "error",
     "traceback": [
      "\u001b[0;31m---------------------------------------------------------------------------\u001b[0m",
      "\u001b[0;31mIndexError\u001b[0m                                Traceback (most recent call last)",
      "\u001b[0;32m<ipython-input-68-d19795a2e96a>\u001b[0m in \u001b[0;36m<module>\u001b[0;34m()\u001b[0m\n\u001b[1;32m      1\u001b[0m \u001b[0;31m#shuffle data\u001b[0m\u001b[0;34m\u001b[0m\u001b[0;34m\u001b[0m\u001b[0m\n\u001b[1;32m      2\u001b[0m \u001b[0mnp\u001b[0m\u001b[0;34m.\u001b[0m\u001b[0mhstack\u001b[0m\u001b[0;34m(\u001b[0m\u001b[0;34m(\u001b[0m\u001b[0mY\u001b[0m\u001b[0;34m.\u001b[0m\u001b[0mreshape\u001b[0m\u001b[0;34m(\u001b[0m\u001b[0mY\u001b[0m\u001b[0;34m.\u001b[0m\u001b[0mshape\u001b[0m\u001b[0;34m[\u001b[0m\u001b[0;36m0\u001b[0m\u001b[0;34m]\u001b[0m\u001b[0;34m,\u001b[0m\u001b[0;36m1\u001b[0m\u001b[0;34m)\u001b[0m\u001b[0;34m,\u001b[0m\u001b[0mX\u001b[0m\u001b[0;34m)\u001b[0m\u001b[0;34m)\u001b[0m\u001b[0;34m\u001b[0m\u001b[0m\n\u001b[0;32m----> 3\u001b[0;31m \u001b[0mprint\u001b[0m\u001b[0;34m(\u001b[0m\u001b[0mY\u001b[0m\u001b[0;34m[\u001b[0m\u001b[0;34m:\u001b[0m\u001b[0;36m3\u001b[0m\u001b[0;34m,\u001b[0m\u001b[0;34m:\u001b[0m\u001b[0;36m3\u001b[0m\u001b[0;34m]\u001b[0m\u001b[0;34m)\u001b[0m\u001b[0;34m\u001b[0m\u001b[0m\n\u001b[0m\u001b[1;32m      4\u001b[0m \u001b[0;34m\u001b[0m\u001b[0m\n\u001b[1;32m      5\u001b[0m \u001b[0mcomb_XY\u001b[0m \u001b[0;34m=\u001b[0m \u001b[0mnp\u001b[0m\u001b[0;34m.\u001b[0m\u001b[0mrandom\u001b[0m\u001b[0;34m.\u001b[0m\u001b[0mshuffle\u001b[0m\u001b[0;34m(\u001b[0m\u001b[0mcomb_XY\u001b[0m\u001b[0;34m)\u001b[0m\u001b[0;34m\u001b[0m\u001b[0m\n",
      "\u001b[0;31mIndexError\u001b[0m: too many indices for array"
     ]
    }
   ],
   "source": [
    "#shuffle data\n",
    "comb_XY = np.hstack((X,Y.reshape(Y.shape[0],1)))\n",
    "print(comb_XY[:3,:3])\n",
    "\n",
    "comb_XY = np.random.shuffle(comb_XY)\n"
   ]
  },
  {
   "cell_type": "code",
   "execution_count": 61,
   "metadata": {},
   "outputs": [
    {
     "name": "stdout",
     "output_type": "stream",
     "text": [
      "Testing Model -  AdaBoost Classifier\n",
      "Iter =  0  Acc =  0.8 False positives =  0.0333333333333\n",
      "Iter =  1  Acc =  0.766666666667 False positives =  0.0666666666667\n",
      "Iter =  2  Acc =  0.833333333333 False positives =  0.0666666666667\n",
      "Iter =  3  Acc =  0.8 False positives =  0.0666666666667\n",
      "Iter =  4  Acc =  0.833333333333 False positives =  0.0333333333333\n",
      "Iter =  5  Acc =  0.766666666667 False positives =  0.1\n",
      "Iter =  6  Acc =  0.833333333333 False positives =  0.0666666666667\n",
      "Iter =  7  Acc =  0.766666666667 False positives =  0.1\n",
      "Iter =  8  Acc =  0.866666666667 False positives =  0.1\n",
      "Iter =  9  Acc =  0.766666666667 False positives =  0.133333333333\n",
      "Iter =  10  Acc =  0.8 False positives =  0.1\n",
      "Iter =  11  Acc =  0.9 False positives =  0.0333333333333\n",
      "Iter =  12  Acc =  0.833333333333 False positives =  0.0333333333333\n",
      "Iter =  13  Acc =  0.866666666667 False positives =  0.0666666666667\n",
      "Iter =  14  Acc =  0.9 False positives =  0.0333333333333\n",
      "Iter =  15  Acc =  0.933333333333 False positives =  0.0\n",
      "Iter =  16  Acc =  0.733333333333 False positives =  0.1\n",
      "Iter =  17  Acc =  0.866666666667 False positives =  0.1\n",
      "Iter =  18  Acc =  0.733333333333 False positives =  0.0666666666667\n",
      "Iter =  19  Acc =  0.866666666667 False positives =  0.0666666666667\n",
      "Avg Accuracy for  AdaBoost Classifier  =  0.823333333333 Avg False Positives =  0.0683333333333\n",
      "The best model is  AdaBoost Classifier  acc =  0.823333333333\n"
     ]
    }
   ],
   "source": [
    "iterations = 20\n",
    "# models = {RFC():'Random Forest Classifier'}\n",
    "models = {AdaBoostClassifier(n_estimators=1000):'AdaBoost Classifier'}\n",
    "\n",
    "\n",
    "best_model = None\n",
    "best_acc = 0\n",
    "best_pred = -1\n",
    "for model in models:\n",
    "    print('Testing Model - ', models[model])\n",
    "    avg_acc = 0\n",
    "    avg_fp = 0.0\n",
    "    for it in range(0, iterations):\n",
    "        idx_train, idx_test = get_test_train_idx(X.shape[0], 30)\n",
    "        \n",
    "        X_test = X[idx_test]\n",
    "        Y_test = Y[idx_test]\n",
    "        \n",
    "        X_train = X[idx_train]\n",
    "        Y_train = Y[idx_train]\n",
    "        model.fit(X_train, Y_train)\n",
    "        pred = model.predict(X_test)\n",
    "        acc = np.mean(pred == Y_test)\n",
    "        fp = np.sum(pred[Y_test == 0])/len(pred)\n",
    "        avg_acc += acc\n",
    "        avg_fp += fp\n",
    "        print('Iter = ', it, ' Acc = ', acc, 'False positives = ', fp)\n",
    "    print('Avg Accuracy for ', models[model], ' = ', avg_acc/iterations, 'Avg False Positives = ', avg_fp/iterations)\n",
    "    if (avg_acc > best_acc):\n",
    "        best_acc = avg_acc\n",
    "        best_model = model\n",
    "        best_pred = pred\n",
    "\n",
    "print('The best model is ', models[best_model], ' acc = ', best_acc/iterations)"
   ]
  },
  {
   "cell_type": "code",
   "execution_count": 53,
   "metadata": {},
   "outputs": [
    {
     "name": "stdout",
     "output_type": "stream",
     "text": [
      "(140,)\n",
      "(140,)\n"
     ]
    },
    {
     "data": {
      "image/png": "[encoded data removed]",
      "text/plain": [
       "<matplotlib.figure.Figure at 0x7f71146fdd30>"
      ]
     },
     "metadata": {},
     "output_type": "display_data"
    }
   ],
   "source": [
    "# Fixing random state for reproducibility\n",
    "\n",
    "x = X[:,321]\n",
    "print (x.shape)\n",
    "y = Y\n",
    "print (y.shape)\n",
    "s = np.random.rand(*x.shape) * 800 + 500\n",
    "\n",
    "plt.scatter(x, y, s, c=\"g\", alpha=0.5, marker=r'$\\clubsuit$',\n",
    "            label=\"Luck\")\n",
    "plt.xlabel(\"Mean\")\n",
    "plt.ylabel(\"Pill taken\")\n",
    "plt.legend(loc=2)\n",
    "plt.show()"
   ]
  },
  {
   "cell_type": "code",
   "execution_count": null,
   "metadata": {
    "collapsed": true
   },
   "outputs": [],
   "source": []
  }
 ],
 "metadata": {
  "kernelspec": {
   "display_name": "Python 3",
   "language": "python",
   "name": "python3"
  },
  "language_info": {
   "codemirror_mode": {
    "name": "ipython",
    "version": 3
   },
   "file_extension": ".py",
   "mimetype": "text/x-python",
   "name": "python",
   "nbconvert_exporter": "python",
   "pygments_lexer": "ipython3",
   "version": "3.6.3"
  }
 },
 "nbformat": 4,
 "nbformat_minor": 2
}
