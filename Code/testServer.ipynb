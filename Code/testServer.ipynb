{
 "cells": [
  {
   "cell_type": "code",
   "execution_count": 3,
   "metadata": {
    "collapsed": true
   },
   "outputs": [],
   "source": [
    "import requests\n",
    "import json\n",
    "import pandas as pd"
   ]
  },
  {
   "cell_type": "code",
   "execution_count": 5,
   "metadata": {},
   "outputs": [],
   "source": [
    "\"\"\"Setting the headers to send and accept json responses\n",
    "\"\"\"\n",
    "header = {'Content-Type': 'application/json', \\\n",
    "                  'Accept': 'application/json'}\n",
    "\n",
    "\"\"\"Reading test batch\n",
    "\"\"\"\n",
    "df = pd.read_csv('../data/feb_15.csv', delimiter=',')\n",
    "df = df.head()\n",
    "\n",
    "\"\"\"Converting Pandas Dataframe to json\n",
    "\"\"\"\n",
    "data = df.to_json(orient='records')\n"
   ]
  },
  {
   "cell_type": "code",
   "execution_count": 6,
   "metadata": {},
   "outputs": [
    {
     "data": {
      "text/plain": [
       "'[{\"id\":1,\"twist st\":\"00:00.33\",\"twist end\":\"00:01.53\",\"dispense st\":\"00:02.90\",\"dispense end\":\"00:04.50\",\"p2m st\":\"00:07.27\",\"p2m end\":\"00:09.03\",\"w2m st\":\"00:09.30\",\"w2m end\":\"00:13.53\"},{\"id\":2,\"twist st\":\"00:01.17\",\"twist end\":\"00:03.30\",\"dispense st\":\"00:03.90\",\"dispense end\":\"00:06.40\",\"p2m st\":\"00:07.07\",\"p2m end\":\"00:08.07\",\"w2m st\":\"00:07.83\",\"w2m end\":\"00:10.10\"},{\"id\":3,\"twist st\":\"00:14.00\",\"twist end\":\"00:17.10\",\"dispense st\":\"00:18.40\",\"dispense end\":\"00:19.60\",\"p2m st\":\"00:26.73\",\"p2m end\":\"00:29.00\",\"w2m st\":\"00:25.57\",\"w2m end\":\"00:28.30\"},{\"id\":4,\"twist st\":\"00:01.50\",\"twist end\":\"00:03.53\",\"dispense st\":\"00:04.10\",\"dispense end\":\"00:06.83\",\"p2m st\":\"00:14.27\",\"p2m end\":\"00:15.40\",\"w2m st\":\"00:12.53\",\"w2m end\":\"00:14.70\"},{\"id\":5,\"twist st\":\"00:00.77\",\"twist end\":\"00:02.87\",\"dispense st\":\"00:03.87\",\"dispense end\":\"00:06.47\",\"p2m st\":\"00:11.90\",\"p2m end\":\"00:12.73\",\"w2m st\":\"00:12.80\",\"w2m end\":\"00:14.90\"}]'"
      ]
     },
     "execution_count": 6,
     "metadata": {},
     "output_type": "execute_result"
    }
   ],
   "source": [
    "data"
   ]
  },
  {
   "cell_type": "code",
   "execution_count": 7,
   "metadata": {
    "collapsed": true
   },
   "outputs": [],
   "source": [
    "\"\"\"POST <url>/predict\n",
    "\"\"\"\n",
    "resp = requests.post(\"http://0.0.0.0:8000/predict\", \\\n",
    "                    data = json.dumps(data),\\\n",
    "                    headers= header)\n"
   ]
  },
  {
   "cell_type": "code",
   "execution_count": 8,
   "metadata": {},
   "outputs": [
    {
     "data": {
      "text/plain": [
       "200"
      ]
     },
     "execution_count": 8,
     "metadata": {},
     "output_type": "execute_result"
    }
   ],
   "source": [
    "resp.status_code"
   ]
  },
  {
   "cell_type": "code",
   "execution_count": 10,
   "metadata": {},
   "outputs": [
    {
     "data": {
      "text/plain": [
       "{'predictions': 'Predictions will be here'}"
      ]
     },
     "execution_count": 10,
     "metadata": {},
     "output_type": "execute_result"
    }
   ],
   "source": [
    "resp.json()"
   ]
  }
 ],
 "metadata": {
  "kernelspec": {
   "display_name": "Python 3",
   "language": "python",
   "name": "python3"
  },
  "language_info": {
   "codemirror_mode": {
    "name": "ipython",
    "version": 3
   },
   "file_extension": ".py",
   "mimetype": "text/x-python",
   "name": "python",
   "nbconvert_exporter": "python",
   "pygments_lexer": "ipython3",
   "version": "3.6.3"
  }
 },
 "nbformat": 4,
 "nbformat_minor": 2
}
